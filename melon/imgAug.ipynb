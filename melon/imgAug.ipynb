{
 "cells": [
  {
   "cell_type": "code",
   "execution_count": 1,
   "outputs": [],
   "source": [
    "from PIL import Image,ImageFilter\n",
    "import os, glob"
   ],
   "metadata": {
    "collapsed": false,
    "pycharm": {
     "name": "#%%\n"
    }
   }
  },
  {
   "cell_type": "code",
   "execution_count": 2,
   "outputs": [
    {
     "name": "stdout",
     "output_type": "stream",
     "text": [
      "이미지증강 폴더 생성\n"
     ]
    }
   ],
   "source": [
    "filepath = './imgAumg_total/'\n",
    "if not os.path.exists(filepath):\n",
    "    os.mkdir(filepath)\n",
    "    print(\"이미지증강 폴더 생성\")"
   ],
   "metadata": {
    "collapsed": false,
    "pycharm": {
     "name": "#%%\n"
    }
   }
  },
  {
   "cell_type": "code",
   "execution_count": 3,
   "outputs": [],
   "source": [
    "imgList = glob.glob('./album_total/*')\n",
    "for path_ in imgList:\n",
    "    img = Image.open(path_)\n",
    "    img1 = img.transpose(Image.FLIP_LEFT_RIGHT)\n",
    "    img2 = img.transpose(Image.FLIP_TOP_BOTTOM)\n",
    "    img3 = img.filter(ImageFilter.SHARPEN)\n",
    "    img.save(filepath+f\"{path_.split('/')[-1].split('.')[0]}_1.jpg\")\n",
    "    img1.save(filepath+f\"{path_.split('/')[-1].split('.')[0]}_2.jpg\")\n",
    "    img2.save(filepath+f\"{path_.split('/')[-1].split('.')[0]}_3.jpg\")\n",
    "    img3.save(filepath+f\"{path_.split('/')[-1].split('.')[0]}_4.jpg\")\n"
   ],
   "metadata": {
    "collapsed": false,
    "pycharm": {
     "name": "#%%\n"
    }
   }
  },
  {
   "cell_type": "code",
   "execution_count": null,
   "outputs": [],
   "source": [],
   "metadata": {
    "collapsed": false,
    "pycharm": {
     "name": "#%%\n"
    }
   }
  }
 ],
 "metadata": {
  "kernelspec": {
   "display_name": "Python 3",
   "language": "python",
   "name": "python3"
  },
  "language_info": {
   "codemirror_mode": {
    "name": "ipython",
    "version": 2
   },
   "file_extension": ".py",
   "mimetype": "text/x-python",
   "name": "python",
   "nbconvert_exporter": "python",
   "pygments_lexer": "ipython2",
   "version": "2.7.6"
  }
 },
 "nbformat": 4,
 "nbformat_minor": 0
}